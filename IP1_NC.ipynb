{
 "cells": [
  {
   "cell_type": "markdown",
   "id": "6e4b674a",
   "metadata": {},
   "source": [
    "# IP1\n",
    "## Noah Clark\n",
    "### v 1.0\n",
    "#### DS-160-02"
   ]
  },
  {
   "cell_type": "code",
   "execution_count": 1,
   "id": "dcb1c095",
   "metadata": {},
   "outputs": [],
   "source": [
    "import numpy as np"
   ]
  },
  {
   "cell_type": "code",
   "execution_count": 17,
   "id": "d1dd489d",
   "metadata": {},
   "outputs": [
    {
     "name": "stdout",
     "output_type": "stream",
     "text": [
      "[[10 20]\n",
      " [30 40]]\n",
      "[[ 100  400]\n",
      " [ 900 1600]]\n",
      "[[110 120]\n",
      " [130 140]]\n",
      "[[ 50 100]\n",
      " [150 200]]\n",
      "[[3.16227766 4.47213595]\n",
      " [5.47722558 6.32455532]]\n"
     ]
    }
   ],
   "source": [
    "array2d=np.array([[10, 20], [30, 40]])\n",
    "print(array2d)\n",
    "\n",
    "print(array2d**2)\n",
    "\n",
    "print(array2d + 100)\n",
    "\n",
    "print(array2d*5)\n",
    "\n",
    "print(array2d**0.5)"
   ]
  },
  {
   "cell_type": "code",
   "execution_count": 20,
   "id": "94d15d9d",
   "metadata": {},
   "outputs": [
    {
     "data": {
      "text/plain": [
       "array([[[ 33,  72, 117],\n",
       "        [168, 225, 288],\n",
       "        [357, 432, 513]]])"
      ]
     },
     "execution_count": 20,
     "metadata": {},
     "output_type": "execute_result"
    }
   ],
   "source": [
    "array1=np.array([[[3, 6, 9], [12, 15, 18], [21, 24, 27]]])\n",
    "array2=np.array([[[11, 12, 13], [14, 15, 16], [17, 18, 19]]])\n",
    "np.multiply(array1, array2)"
   ]
  },
  {
   "cell_type": "code",
   "execution_count": 36,
   "id": "ac177d78",
   "metadata": {},
   "outputs": [],
   "source": [
    "npy1=np.load(\"process1.npy\")\n",
    "\n",
    "npy2=np.load(\"process2.npy\")\n",
    "\n",
    "npy3=np.load(\"process3.npy\")\n",
    "\n",
    "npy4=np.load(\"process4.npy\")\n",
    "\n",
    "npy5=np.load(\"process5.npy\")"
   ]
  },
  {
   "cell_type": "code",
   "execution_count": 41,
   "id": "9209d02c",
   "metadata": {},
   "outputs": [
    {
     "name": "stdout",
     "output_type": "stream",
     "text": [
      "[[52 12 81  0 58]\n",
      " [96  4 61 16 43]\n",
      " [38 96 45 17 58]\n",
      " [97 21 22 25  6]\n",
      " [77  6 19  2 74]]\n"
     ]
    },
    {
     "data": {
      "text/plain": [
       "41.04"
      ]
     },
     "execution_count": 41,
     "metadata": {},
     "output_type": "execute_result"
    }
   ],
   "source": [
    "npyarray=np.vstack(((((npy1, npy2, npy3, npy4, npy5)))))\n",
    "print(npyarray)\n",
    "npyarray.mean()"
   ]
  }
 ],
 "metadata": {
  "kernelspec": {
   "display_name": "Python 3",
   "language": "python",
   "name": "python3"
  },
  "language_info": {
   "codemirror_mode": {
    "name": "ipython",
    "version": 3
   },
   "file_extension": ".py",
   "mimetype": "text/x-python",
   "name": "python",
   "nbconvert_exporter": "python",
   "pygments_lexer": "ipython3",
   "version": "3.8.8"
  }
 },
 "nbformat": 4,
 "nbformat_minor": 5
}
